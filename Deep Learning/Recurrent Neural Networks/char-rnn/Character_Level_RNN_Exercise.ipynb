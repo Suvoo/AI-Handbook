{
 "cells": [
  {
   "cell_type": "markdown",
   "metadata": {},
   "source": [
    "# Character-Level LSTM in PyTorch\n",
    "\n",
    "In this notebook, I'll construct a character-level LSTM with PyTorch. The network will train character by character on some text, then generate new text character by character. As an example, I will train on Anna Karenina. **This model will be able to generate new text based on the text from the book!**\n",
    "\n",
    "This network is based off of Andrej Karpathy's [post on RNNs](http://karpathy.github.io/2015/05/21/rnn-effectiveness/) and [implementation in Torch](https://github.com/karpathy/char-rnn). Below is the general architecture of the character-wise RNN.\n",
    "\n",
    "<img src=\"assets/charseq.jpeg\" width=\"500\">"
   ]
  },
  {
   "cell_type": "markdown",
   "metadata": {},
   "source": [
    "First let's load in our required resources for data loading and model creation."
   ]
  },
  {
   "cell_type": "code",
   "execution_count": 1,
   "metadata": {
    "tags": []
   },
   "outputs": [],
   "source": [
    "import numpy as np\n",
    "import torch\n",
    "from torch import nn\n",
    "import torch.nn.functional as F"
   ]
  },
  {
   "cell_type": "markdown",
   "metadata": {},
   "source": [
    "## Load in Data\n",
    "\n",
    "Then, we'll load the Anna Karenina text file and convert it into integers for our network to use. "
   ]
  },
  {
   "cell_type": "code",
   "execution_count": 2,
   "metadata": {
    "tags": []
   },
   "outputs": [],
   "source": [
    "# open text file and read in data as `text`\n",
    "with open('data/anna.txt', 'r') as f:\n",
    "    text = f.read()"
   ]
  },
  {
   "cell_type": "markdown",
   "metadata": {},
   "source": [
    "Let's check out the first 100 characters, make sure everything is peachy. According to the [American Book Review](http://americanbookreview.org/100bestlines.asp), this is the 6th best first line of a book ever."
   ]
  },
  {
   "cell_type": "code",
   "execution_count": 5,
   "metadata": {
    "tags": []
   },
   "outputs": [
    {
     "data": {
      "text/plain": [
       "'Chapter 1\\n\\n\\nHappy families are all alike; every unhappy family is unhappy in its own\\nway.\\n\\nEverythin'"
      ]
     },
     "execution_count": 5,
     "metadata": {},
     "output_type": "execute_result"
    }
   ],
   "source": [
    "text[:100]"
   ]
  },
  {
   "cell_type": "markdown",
   "metadata": {},
   "source": [
    "### Tokenization\n",
    "\n",
    "In the cells, below, I'm creating a couple **dictionaries** to convert the characters to and from integers. Encoding the characters as integers makes it easier to use as input in the network."
   ]
  },
  {
   "cell_type": "code",
   "execution_count": 6,
   "metadata": {
    "tags": []
   },
   "outputs": [],
   "source": [
    "# encode the text and map each character to an integer and vice versa\n",
    "\n",
    "# we create two dictionaries:\n",
    "# 1. int2char, which maps integers to characters\n",
    "# 2. char2int, which maps characters to unique integers\n",
    "\n",
    "chars = tuple(set(text))\n",
    "int2char = dict(enumerate(chars))\n",
    "char2int = {ch: ii for ii, ch in int2char.items()}\n",
    "\n",
    "# encode the text\n",
    "encoded = np.array([char2int[ch] for ch in text])"
   ]
  },
  {
   "cell_type": "code",
   "execution_count": 11,
   "metadata": {},
   "outputs": [
    {
     "name": "stdout",
     "output_type": "stream",
     "text": [
      "{0: 'V', 1: '@', 2: 'e', 3: '-', 4: 'i', 5: '/', 6: '2', 7: 'm', 8: 'o', 9: '9', 10: 'w', 11: 'k', 12: 'U', 13: '!', 14: 'J', 15: 'H', 16: 'L', 17: 'p', 18: '(', 19: 'G', 20: '5', 21: '_', 22: 'N', 23: '%', 24: 'E', 25: 'C', 26: 'l', 27: 'F', 28: '?', 29: ')', 30: ' ', 31: 'h', 32: 'P', 33: '\\n', 34: 'I', 35: 'n', 36: 'v', 37: 'c', 38: 'd', 39: '4', 40: 'K', 41: 't', 42: 'a', 43: 'B', 44: 'S', 45: 'j', 46: \"'\", 47: 'D', 48: 'A', 49: '*', 50: 'u', 51: ':', 52: '&', 53: 'f', 54: ';', 55: 'g', 56: 'T', 57: '7', 58: 'y', 59: 'Z', 60: 'r', 61: 'Q', 62: 'M', 63: '\"', 64: 'R', 65: 'X', 66: 'q', 67: '1', 68: '3', 69: 'z', 70: 'Y', 71: '0', 72: 'b', 73: ',', 74: 'x', 75: 's', 76: 'W', 77: 'O', 78: '8', 79: '`', 80: '$', 81: '.', 82: '6'}\n",
      "{'V': 0, '@': 1, 'e': 2, '-': 3, 'i': 4, '/': 5, '2': 6, 'm': 7, 'o': 8, '9': 9, 'w': 10, 'k': 11, 'U': 12, '!': 13, 'J': 14, 'H': 15, 'L': 16, 'p': 17, '(': 18, 'G': 19, '5': 20, '_': 21, 'N': 22, '%': 23, 'E': 24, 'C': 25, 'l': 26, 'F': 27, '?': 28, ')': 29, ' ': 30, 'h': 31, 'P': 32, '\\n': 33, 'I': 34, 'n': 35, 'v': 36, 'c': 37, 'd': 38, '4': 39, 'K': 40, 't': 41, 'a': 42, 'B': 43, 'S': 44, 'j': 45, \"'\": 46, 'D': 47, 'A': 48, '*': 49, 'u': 50, ':': 51, '&': 52, 'f': 53, ';': 54, 'g': 55, 'T': 56, '7': 57, 'y': 58, 'Z': 59, 'r': 60, 'Q': 61, 'M': 62, '\"': 63, 'R': 64, 'X': 65, 'q': 66, '1': 67, '3': 68, 'z': 69, 'Y': 70, '0': 71, 'b': 72, ',': 73, 'x': 74, 's': 75, 'W': 76, 'O': 77, '8': 78, '`': 79, '$': 80, '.': 81, '6': 82}\n"
     ]
    }
   ],
   "source": [
    "# chars\n",
    "print(int2char)\n",
    "print(char2int)"
   ]
  },
  {
   "cell_type": "markdown",
   "metadata": {},
   "source": [
    "And we can see those same characters from above, encoded as integers."
   ]
  },
  {
   "cell_type": "code",
   "execution_count": 12,
   "metadata": {
    "tags": []
   },
   "outputs": [
    {
     "data": {
      "text/plain": [
       "array([25, 31, 42, 17, 41,  2, 60, 30, 67, 33, 33, 33, 15, 42, 17, 17, 58,\n",
       "       30, 53, 42,  7,  4, 26,  4,  2, 75, 30, 42, 60,  2, 30, 42, 26, 26,\n",
       "       30, 42, 26,  4, 11,  2, 54, 30,  2, 36,  2, 60, 58, 30, 50, 35, 31,\n",
       "       42, 17, 17, 58, 30, 53, 42,  7,  4, 26, 58, 30,  4, 75, 30, 50, 35,\n",
       "       31, 42, 17, 17, 58, 30,  4, 35, 30,  4, 41, 75, 30,  8, 10, 35, 33,\n",
       "       10, 42, 58, 81, 33, 33, 24, 36,  2, 60, 58, 41, 31,  4, 35])"
      ]
     },
     "execution_count": 12,
     "metadata": {},
     "output_type": "execute_result"
    }
   ],
   "source": [
    "encoded[:100]"
   ]
  },
  {
   "cell_type": "markdown",
   "metadata": {},
   "source": [
    "## Pre-processing the data\n",
    "\n",
    "As you can see in our char-RNN image above, our LSTM expects an input that is **one-hot encoded** meaning that each character is converted into an integer (via our created dictionary) and *then* converted into a column vector where only it's corresponding integer index will have the value of 1 and the rest of the vector will be filled with 0's. Since we're one-hot encoding the data, let's make a function to do that!\n"
   ]
  },
  {
   "cell_type": "code",
   "execution_count": 13,
   "metadata": {
    "tags": []
   },
   "outputs": [],
   "source": [
    "def one_hot_encode(arr, n_labels):\n",
    "    \n",
    "    # Initialize the encoded array\n",
    "    one_hot = np.zeros((arr.size, n_labels), dtype=np.float32)\n",
    "    \n",
    "    # Fill the appropriate elements with ones\n",
    "    one_hot[np.arange(one_hot.shape[0]), arr.flatten()] = 1.\n",
    "    \n",
    "    # Finally reshape it to get back to the original array\n",
    "    one_hot = one_hot.reshape((*arr.shape, n_labels))\n",
    "    \n",
    "    return one_hot"
   ]
  },
  {
   "cell_type": "code",
   "execution_count": 14,
   "metadata": {
    "tags": []
   },
   "outputs": [
    {
     "name": "stdout",
     "output_type": "stream",
     "text": [
      "[[[0. 0. 0. 1. 0. 0. 0. 0.]\n",
      "  [0. 0. 0. 0. 0. 1. 0. 0.]\n",
      "  [0. 1. 0. 0. 0. 0. 0. 0.]]]\n"
     ]
    }
   ],
   "source": [
    "# check that the function works as expected\n",
    "test_seq = np.array([[3, 5, 1]])\n",
    "one_hot = one_hot_encode(test_seq, 8)\n",
    "\n",
    "print(one_hot)"
   ]
  },
  {
   "cell_type": "markdown",
   "metadata": {},
   "source": [
    "## Making training mini-batches\n",
    "\n",
    "\n",
    "To train on this data, we also want to create mini-batches for training. Remember that we want our batches to be multiple sequences of some desired number of sequence steps. Considering a simple example, our batches would look like this:\n",
    "\n",
    "<img src=\"assets/sequence_batching@1x.png\" width=500px>\n",
    "\n",
    "\n",
    "<br>\n",
    "\n",
    "In this example, we'll take the encoded characters (passed in as the `arr` parameter) and split them into multiple sequences, given by `batch_size`. Each of our sequences will be `seq_length` long.\n",
    "\n",
    "### Creating Batches\n",
    "\n",
    "**1. The first thing we need to do is discard some of the text so we only have completely full mini-batches.**\n",
    "\n",
    "Each batch contains $N \\times M$ characters, where $N$ is the batch size (the number of sequences in a batch) and $M$ is the seq_length or number of time steps in a sequence. Then, to get the total number of batches, $K$, that we can make from the array `arr`, you divide the length of `arr` by the number of characters per batch. Once you know the number of batches, you can get the total number of characters to keep from `arr`, $N * M * K$.\n",
    "\n",
    "**2. After that, we need to split `arr` into $N$ batches.** \n",
    "\n",
    "You can do this using `arr.reshape(size)` where `size` is a tuple containing the dimensions sizes of the reshaped array. We know we want $N$ sequences in a batch, so let's make that the size of the first dimension. For the second dimension, you can use `-1` as a placeholder in the size, it'll fill up the array with the appropriate data for you. After this, you should have an array that is $N \\times (M * K)$.\n",
    "\n",
    "**3. Now that we have this array, we can iterate through it to get our mini-batches.**\n",
    "\n",
    "The idea is each batch is a $N \\times M$ window on the $N \\times (M * K)$ array. For each subsequent batch, the window moves over by `seq_length`. We also want to create both the input and target arrays. Remember that the targets are just the inputs shifted over by one character. The way I like to do this window is use `range` to take steps of size `n_steps` from $0$ to `arr.shape[1]`, the total number of tokens in each sequence. That way, the integers you get from `range` always point to the start of a batch, and each window is `seq_length` wide.\n",
    "\n",
    "> **TODO:** Write the code for creating batches in the function below. The exercises in this notebook _will not be easy_. I've provided a notebook with solutions alongside this notebook. If you get stuck, checkout the solutions. The most important thing is that you don't copy and paste the code into here, **type out the solution code yourself.**"
   ]
  },
  {
   "cell_type": "code",
   "execution_count": 21,
   "metadata": {
    "tags": []
   },
   "outputs": [],
   "source": [
    "def get_batches(arr, batch_size, seq_length):\n",
    "    '''Create a generator that returns batches of size\n",
    "       batch_size x seq_length from arr.\n",
    "       \n",
    "       Arguments\n",
    "       ---------\n",
    "       arr: Array you want to make batches from\n",
    "       batch_size: Batch size, the number of sequences per batch\n",
    "       seq_length: Number of encoded chars in a sequence\n",
    "    '''\n",
    "    \n",
    "    batch_size_total =  batch_size * seq_length\n",
    "    ## TODO: Get the number of batches we can make\n",
    "    n_batches =  len(arr) // batch_size_total\n",
    "    \n",
    "    ## TODO: Keep only enough characters to make full batches\n",
    "    arr = arr[:n_batches * batch_size_total] # full data\n",
    "    \n",
    "    ## TODO: Reshape into batch_size rows\n",
    "    arr = arr.reshape((batch_size, -1))\n",
    "    \n",
    "    ## TODO: Iterate over the batches using a window of size seq_length\n",
    "    for n in range(0, arr.shape[1], seq_length):\n",
    "        # The features\n",
    "        x = arr[:, n:n+seq_length]\n",
    "        # The targets, shifted by one\n",
    "        y = np.zeros_like(x)\n",
    "        \n",
    "        try:\n",
    "            y[:, :-1], y[:, -1] = x[:, 1:], arr[:, n+seq_length] # shift 1\n",
    "        except IndexError:\n",
    "            y[:, :-1], y[:, -1] = x[:, 1:], arr[:, 0] # make last and first are same\n",
    "            \n",
    "        yield x, y"
   ]
  },
  {
   "cell_type": "markdown",
   "metadata": {},
   "source": [
    "### Test Your Implementation\n",
    "\n",
    "Now I'll make some data sets and we can check out what's going on as we batch data. Here, as an example, I'm going to use a batch size of 8 and 50 sequence steps."
   ]
  },
  {
   "cell_type": "code",
   "execution_count": 22,
   "metadata": {
    "tags": []
   },
   "outputs": [],
   "source": [
    "batches = get_batches(encoded, 8, 50)\n",
    "x, y = next(batches)"
   ]
  },
  {
   "cell_type": "code",
   "execution_count": 23,
   "metadata": {
    "tags": []
   },
   "outputs": [
    {
     "name": "stdout",
     "output_type": "stream",
     "text": [
      "x\n",
      " [[25 31 42 17 41  2 60 30 67 33]\n",
      " [75  8 35 30 41 31 42 41 30 42]\n",
      " [ 2 35 38 30  8 60 30 42 30 53]\n",
      " [75 30 41 31  2 30 37 31  4  2]\n",
      " [30 75 42 10 30 31  2 60 30 41]\n",
      " [37 50 75 75  4  8 35 30 42 35]\n",
      " [30 48 35 35 42 30 31 42 38 30]\n",
      " [77 72 26  8 35 75 11 58 81 30]]\n",
      "\n",
      "y\n",
      " [[31 42 17 41  2 60 30 67 33 33]\n",
      " [ 8 35 30 41 31 42 41 30 42 41]\n",
      " [35 38 30  8 60 30 42 30 53  8]\n",
      " [30 41 31  2 30 37 31  4  2 53]\n",
      " [75 42 10 30 31  2 60 30 41  2]\n",
      " [50 75 75  4  8 35 30 42 35 38]\n",
      " [48 35 35 42 30 31 42 38 30 75]\n",
      " [72 26  8 35 75 11 58 81 30 63]]\n"
     ]
    }
   ],
   "source": [
    "# printing out the first 10 items in a sequence\n",
    "print('x\\n', x[:10, :10])\n",
    "print('\\ny\\n', y[:10, :10])"
   ]
  },
  {
   "cell_type": "markdown",
   "metadata": {},
   "source": [
    "If you implemented `get_batches` correctly, the above output should look something like \n",
    "```\n",
    "x\n",
    " [[25  8 60 11 45 27 28 73  1  2]\n",
    " [17  7 20 73 45  8 60 45 73 60]\n",
    " [27 20 80 73  7 28 73 60 73 65]\n",
    " [17 73 45  8 27 73 66  8 46 27]\n",
    " [73 17 60 12 73  8 27 28 73 45]\n",
    " [66 64 17 17 46  7 20 73 60 20]\n",
    " [73 76 20 20 60 73  8 60 80 73]\n",
    " [47 35 43  7 20 17 24 50 37 73]]\n",
    "\n",
    "y\n",
    " [[ 8 60 11 45 27 28 73  1  2  2]\n",
    " [ 7 20 73 45  8 60 45 73 60 45]\n",
    " [20 80 73  7 28 73 60 73 65  7]\n",
    " [73 45  8 27 73 66  8 46 27 65]\n",
    " [17 60 12 73  8 27 28 73 45 27]\n",
    " [64 17 17 46  7 20 73 60 20 80]\n",
    " [76 20 20 60 73  8 60 80 73 17]\n",
    " [35 43  7 20 17 24 50 37 73 36]]\n",
    " ```\n",
    " although the exact numbers may be different. Check to make sure the data is shifted over one step for `y`."
   ]
  },
  {
   "cell_type": "markdown",
   "metadata": {},
   "source": [
    "---\n",
    "## Defining the network with PyTorch\n",
    "\n",
    "Below is where you'll define the network.\n",
    "\n",
    "<img src=\"assets/charRNN.png\" width=500px>\n",
    "\n",
    "Next, you'll use PyTorch to define the architecture of the network. We start by defining the layers and operations we want. Then, define a method for the forward pass. You've also been given a method for predicting characters."
   ]
  },
  {
   "cell_type": "markdown",
   "metadata": {},
   "source": [
    "### Model Structure\n",
    "\n",
    "In `__init__` the suggested structure is as follows:\n",
    "* Create and store the necessary dictionaries (this has been done for you)\n",
    "* Define an LSTM layer that takes as params: an input size (the number of characters), a hidden layer size `n_hidden`, a number of layers `n_layers`, a dropout probability `drop_prob`, and a batch_first boolean (True, since we are batching)\n",
    "* Define a dropout layer with `drop_prob`\n",
    "* Define a fully-connected layer with params: input size `n_hidden` and output size (the number of characters)\n",
    "* Finally, initialize the weights (again, this has been given)\n",
    "\n",
    "Note that some parameters have been named and given in the `__init__` function, and we use them and store them by doing something like `self.drop_prob = drop_prob`."
   ]
  },
  {
   "cell_type": "markdown",
   "metadata": {},
   "source": [
    "---\n",
    "### LSTM Inputs/Outputs\n",
    "\n",
    "You can create a basic [LSTM layer](https://pytorch.org/docs/stable/nn.html#lstm) as follows\n",
    "\n",
    "```python\n",
    "self.lstm = nn.LSTM(input_size, n_hidden, n_layers, \n",
    "                            dropout=drop_prob, batch_first=True)\n",
    "```\n",
    "\n",
    "where `input_size` is the number of characters this cell expects to see as sequential input, and `n_hidden` is the number of units in the hidden layers in the cell. And we can add dropout by adding a dropout parameter with a specified probability; this will automatically add dropout to the inputs or outputs. Finally, in the `forward` function, we can stack up the LSTM cells into layers using `.view`. With this, you pass in a list of cells and it will send the output of one cell into the next cell.\n",
    "\n",
    "We also need to create an initial hidden state of all zeros. This is done like so\n",
    "\n",
    "```python\n",
    "self.init_hidden()\n",
    "```"
   ]
  },
  {
   "cell_type": "code",
   "execution_count": 24,
   "metadata": {
    "tags": []
   },
   "outputs": [
    {
     "name": "stdout",
     "output_type": "stream",
     "text": [
      "Training on GPU!\n"
     ]
    }
   ],
   "source": [
    "# check if GPU is available\n",
    "train_on_gpu = torch.cuda.is_available()\n",
    "if(train_on_gpu):\n",
    "    print('Training on GPU!')\n",
    "else: \n",
    "    print('No GPU available, training on CPU; consider making n_epochs very small.')"
   ]
  },
  {
   "cell_type": "code",
   "execution_count": 26,
   "metadata": {
    "tags": []
   },
   "outputs": [],
   "source": [
    "class CharRNN(nn.Module):\n",
    "    \n",
    "    def __init__(self, tokens, n_hidden=256, n_layers=2,\n",
    "                               drop_prob=0.5, lr=0.001):\n",
    "        super().__init__()\n",
    "        self.drop_prob = drop_prob\n",
    "        self.n_layers = n_layers\n",
    "        self.n_hidden = n_hidden\n",
    "        self.lr = lr\n",
    "        \n",
    "        # creating character dictionaries\n",
    "        self.chars = tokens\n",
    "        self.int2char = dict(enumerate(self.chars))\n",
    "        self.char2int = {ch: ii for ii, ch in self.int2char.items()}\n",
    "        \n",
    "        ## TODO: define the layers of the model\n",
    "\n",
    "        ## TODO: define the LSTM\n",
    "        self.lstm = nn.LSTM(len(self.chars), n_hidden, n_layers, \n",
    "                            dropout=drop_prob, batch_first=True)\n",
    "        \n",
    "        ## TODO: define a dropout layer\n",
    "        self.dropout = nn.Dropout(drop_prob)\n",
    "        \n",
    "        ## TODO: define the final, fully-connected output layer\n",
    "        self.fc = nn.Linear(n_hidden, len(self.chars))\n",
    "        \n",
    "      \n",
    "    \n",
    "    def forward(self, x, hidden):\n",
    "        ''' Forward pass through the network. \n",
    "            These inputs are x, and the hidden/cell state `hidden`. '''\n",
    "                \n",
    "        ## TODO: Get the outputs and the new hidden state from the lstm\n",
    "        r_output, hidden = self.lstm(x, hidden)\n",
    "        \n",
    "        ## TODO: pass through a dropout layer\n",
    "        out = self.dropout(r_output)\n",
    "        \n",
    "        # Stack up LSTM outputs using view\n",
    "        # you may need to use contiguous to reshape the output\n",
    "        out = out.contiguous().view(-1, self.n_hidden)\n",
    "        \n",
    "        ## TODO: put x through the fully-connected layer\n",
    "        out = self.fc(out)\n",
    "        \n",
    "        # return the final output and the hidden state\n",
    "        return out, hidden\n",
    "            \n",
    "    \n",
    "    def init_hidden(self, batch_size):\n",
    "        ''' Initializes hidden state '''\n",
    "        # Create two new tensors with sizes n_layers x batch_size x n_hidden,\n",
    "        # initialized to zero, for hidden state and cell state of LSTM\n",
    "        weight = next(self.parameters()).data\n",
    "        \n",
    "        if (train_on_gpu):\n",
    "            hidden = (weight.new(self.n_layers, batch_size, self.n_hidden).zero_().cuda(),\n",
    "                  weight.new(self.n_layers, batch_size, self.n_hidden).zero_().cuda())\n",
    "        else:\n",
    "            hidden = (weight.new(self.n_layers, batch_size, self.n_hidden).zero_(),\n",
    "                      weight.new(self.n_layers, batch_size, self.n_hidden).zero_())\n",
    "        \n",
    "        return hidden\n",
    "        "
   ]
  },
  {
   "cell_type": "markdown",
   "metadata": {},
   "source": [
    "## Time to train\n",
    "\n",
    "The train function gives us the ability to set the number of epochs, the learning rate, and other parameters.\n",
    "\n",
    "Below we're using an Adam optimizer and cross entropy loss since we are looking at character class scores as output. We calculate the loss and perform backpropagation, as usual!\n",
    "\n",
    "A couple of details about training: \n",
    ">* Within the batch loop, we detach the hidden state from its history; this time setting it equal to a new *tuple* variable because an LSTM has a hidden state that is a tuple of the hidden and cell states.\n",
    "* We use [`clip_grad_norm_`](https://pytorch.org/docs/stable/_modules/torch/nn/utils/clip_grad.html) to help prevent exploding gradients."
   ]
  },
  {
   "cell_type": "code",
   "execution_count": 27,
   "metadata": {
    "tags": []
   },
   "outputs": [],
   "source": [
    "def train(net, data, epochs=10, batch_size=10, seq_length=50, lr=0.001, clip=5, val_frac=0.1, print_every=10):\n",
    "    ''' Training a network \n",
    "    \n",
    "        Arguments\n",
    "        ---------\n",
    "        \n",
    "        net: CharRNN network\n",
    "        data: text data to train the network\n",
    "        epochs: Number of epochs to train\n",
    "        batch_size: Number of mini-sequences per mini-batch, aka batch size\n",
    "        seq_length: Number of character steps per mini-batch\n",
    "        lr: learning rate\n",
    "        clip: gradient clipping\n",
    "        val_frac: Fraction of data to hold out for validation\n",
    "        print_every: Number of steps for printing training and validation loss\n",
    "    \n",
    "    '''\n",
    "    net.train()\n",
    "    \n",
    "    opt = torch.optim.Adam(net.parameters(), lr=lr)\n",
    "    criterion = nn.CrossEntropyLoss()\n",
    "    \n",
    "    # create training and validation data\n",
    "    val_idx = int(len(data)*(1-val_frac))\n",
    "    data, val_data = data[:val_idx], data[val_idx:]\n",
    "    \n",
    "    if(train_on_gpu):\n",
    "        net.cuda()\n",
    "    \n",
    "    counter = 0\n",
    "    n_chars = len(net.chars)\n",
    "    for e in range(epochs):\n",
    "        # initialize hidden state\n",
    "        h = net.init_hidden(batch_size)\n",
    "        \n",
    "        for x, y in get_batches(data, batch_size, seq_length):\n",
    "            counter += 1\n",
    "            \n",
    "            # One-hot encode our data and make them Torch tensors\n",
    "            x = one_hot_encode(x, n_chars)\n",
    "            inputs, targets = torch.from_numpy(x), torch.from_numpy(y)\n",
    "            \n",
    "            if(train_on_gpu):\n",
    "                inputs, targets = inputs.cuda(), targets.cuda()\n",
    "\n",
    "            # Creating new variables for the hidden state, otherwise\n",
    "            # we'd backprop through the entire training history\n",
    "            h = tuple([each.data for each in h])\n",
    "\n",
    "            # zero accumulated gradients\n",
    "            net.zero_grad()\n",
    "            \n",
    "            # get the output from the model\n",
    "            output, h = net(inputs, h)\n",
    "            \n",
    "            # calculate the loss and perform backprop\n",
    "            loss = criterion(output, targets.view(batch_size*seq_length).long())\n",
    "            loss.backward()\n",
    "            # `clip_grad_norm` helps prevent the exploding gradient problem in RNNs / LSTMs.\n",
    "            nn.utils.clip_grad_norm_(net.parameters(), clip)\n",
    "            opt.step()\n",
    "            \n",
    "            # loss stats\n",
    "            if counter % print_every == 0:\n",
    "                # Get validation loss\n",
    "                val_h = net.init_hidden(batch_size)\n",
    "                val_losses = []\n",
    "                net.eval()\n",
    "                for x, y in get_batches(val_data, batch_size, seq_length):\n",
    "                    # One-hot encode our data and make them Torch tensors\n",
    "                    x = one_hot_encode(x, n_chars)\n",
    "                    x, y = torch.from_numpy(x), torch.from_numpy(y)\n",
    "                    \n",
    "                    # Creating new variables for the hidden state, otherwise\n",
    "                    # we'd backprop through the entire training history\n",
    "                    val_h = tuple([each.data for each in val_h])\n",
    "                    \n",
    "                    inputs, targets = x, y\n",
    "                    if(train_on_gpu):\n",
    "                        inputs, targets = inputs.cuda(), targets.cuda()\n",
    "\n",
    "                    output, val_h = net(inputs, val_h)\n",
    "                    val_loss = criterion(output, targets.view(batch_size*seq_length).long())\n",
    "                \n",
    "                    val_losses.append(val_loss.item())\n",
    "                \n",
    "                net.train() # reset to train mode after iterationg through validation data\n",
    "                \n",
    "                print(\"Epoch: {}/{}...\".format(e+1, epochs),\n",
    "                      \"Step: {}...\".format(counter),\n",
    "                      \"Loss: {:.4f}...\".format(loss.item()),\n",
    "                      \"Val Loss: {:.4f}\".format(np.mean(val_losses)))"
   ]
  },
  {
   "cell_type": "markdown",
   "metadata": {},
   "source": [
    "## Instantiating the model\n",
    "\n",
    "Now we can actually train the network. First we'll create the network itself, with some given hyperparameters. Then, define the mini-batches sizes, and start training!"
   ]
  },
  {
   "cell_type": "code",
   "execution_count": 28,
   "metadata": {
    "tags": []
   },
   "outputs": [
    {
     "name": "stdout",
     "output_type": "stream",
     "text": [
      "CharRNN(\n",
      "  (lstm): LSTM(83, 512, num_layers=2, batch_first=True, dropout=0.5)\n",
      "  (dropout): Dropout(p=0.5, inplace=False)\n",
      "  (fc): Linear(in_features=512, out_features=83, bias=True)\n",
      ")\n"
     ]
    }
   ],
   "source": [
    "## TODO: set your model hyperparameters\n",
    "# define and print the net\n",
    "n_hidden= 512\n",
    "n_layers= 2\n",
    "\n",
    "net = CharRNN(chars, n_hidden, n_layers)\n",
    "print(net)"
   ]
  },
  {
   "cell_type": "markdown",
   "metadata": {},
   "source": [
    "### Set your training hyperparameters!"
   ]
  },
  {
   "cell_type": "code",
   "execution_count": 29,
   "metadata": {
    "scrolled": true,
    "tags": []
   },
   "outputs": [
    {
     "name": "stdout",
     "output_type": "stream",
     "text": [
      "Epoch: 1/20... Step: 10... Loss: 3.2595... Val Loss: 3.1877\n",
      "Epoch: 1/20... Step: 20... Loss: 3.1456... Val Loss: 3.1295\n",
      "Epoch: 1/20... Step: 30... Loss: 3.1427... Val Loss: 3.1220\n",
      "Epoch: 1/20... Step: 40... Loss: 3.1111... Val Loss: 3.1192\n",
      "Epoch: 1/20... Step: 50... Loss: 3.1396... Val Loss: 3.1174\n",
      "Epoch: 1/20... Step: 60... Loss: 3.1145... Val Loss: 3.1143\n",
      "Epoch: 1/20... Step: 70... Loss: 3.1027... Val Loss: 3.1103\n",
      "Epoch: 1/20... Step: 80... Loss: 3.1124... Val Loss: 3.1006\n",
      "Epoch: 1/20... Step: 90... Loss: 3.0951... Val Loss: 3.0758\n",
      "Epoch: 1/20... Step: 100... Loss: 3.0358... Val Loss: 3.0172\n",
      "Epoch: 1/20... Step: 110... Loss: 2.9833... Val Loss: 2.9622\n",
      "Epoch: 1/20... Step: 120... Loss: 2.8536... Val Loss: 2.8626\n",
      "Epoch: 1/20... Step: 130... Loss: 2.7995... Val Loss: 2.7570\n",
      "Epoch: 2/20... Step: 140... Loss: 2.7191... Val Loss: 2.6866\n",
      "Epoch: 2/20... Step: 150... Loss: 2.6224... Val Loss: 2.5705\n",
      "Epoch: 2/20... Step: 160... Loss: 2.5428... Val Loss: 2.5028\n",
      "Epoch: 2/20... Step: 170... Loss: 2.4731... Val Loss: 2.4504\n",
      "Epoch: 2/20... Step: 180... Loss: 2.4407... Val Loss: 2.4158\n",
      "Epoch: 2/20... Step: 190... Loss: 2.4025... Val Loss: 2.3847\n",
      "Epoch: 2/20... Step: 200... Loss: 2.3842... Val Loss: 2.3552\n",
      "Epoch: 2/20... Step: 210... Loss: 2.3560... Val Loss: 2.3292\n",
      "Epoch: 2/20... Step: 220... Loss: 2.3160... Val Loss: 2.2964\n",
      "Epoch: 2/20... Step: 230... Loss: 2.3022... Val Loss: 2.2708\n",
      "Epoch: 2/20... Step: 240... Loss: 2.2932... Val Loss: 2.2437\n",
      "Epoch: 2/20... Step: 250... Loss: 2.2195... Val Loss: 2.2230\n",
      "Epoch: 2/20... Step: 260... Loss: 2.1938... Val Loss: 2.1943\n",
      "Epoch: 2/20... Step: 270... Loss: 2.2002... Val Loss: 2.1724\n",
      "Epoch: 3/20... Step: 280... Loss: 2.2030... Val Loss: 2.1551\n",
      "Epoch: 3/20... Step: 290... Loss: 2.1628... Val Loss: 2.1282\n",
      "Epoch: 3/20... Step: 300... Loss: 2.1418... Val Loss: 2.1084\n",
      "Epoch: 3/20... Step: 310... Loss: 2.1158... Val Loss: 2.0851\n",
      "Epoch: 3/20... Step: 320... Loss: 2.0834... Val Loss: 2.0664\n",
      "Epoch: 3/20... Step: 330... Loss: 2.0503... Val Loss: 2.0464\n",
      "Epoch: 3/20... Step: 340... Loss: 2.0691... Val Loss: 2.0267\n",
      "Epoch: 3/20... Step: 350... Loss: 2.0543... Val Loss: 2.0090\n",
      "Epoch: 3/20... Step: 360... Loss: 1.9825... Val Loss: 1.9911\n",
      "Epoch: 3/20... Step: 370... Loss: 2.0080... Val Loss: 1.9768\n",
      "Epoch: 3/20... Step: 380... Loss: 1.9847... Val Loss: 1.9607\n",
      "Epoch: 3/20... Step: 390... Loss: 1.9642... Val Loss: 1.9472\n",
      "Epoch: 3/20... Step: 400... Loss: 1.9309... Val Loss: 1.9306\n",
      "Epoch: 3/20... Step: 410... Loss: 1.9483... Val Loss: 1.9172\n",
      "Epoch: 4/20... Step: 420... Loss: 1.9376... Val Loss: 1.9023\n",
      "Epoch: 4/20... Step: 430... Loss: 1.9238... Val Loss: 1.8840\n",
      "Epoch: 4/20... Step: 440... Loss: 1.8996... Val Loss: 1.8777\n",
      "Epoch: 4/20... Step: 450... Loss: 1.8521... Val Loss: 1.8612\n",
      "Epoch: 4/20... Step: 460... Loss: 1.8379... Val Loss: 1.8493\n",
      "Epoch: 4/20... Step: 470... Loss: 1.8711... Val Loss: 1.8409\n",
      "Epoch: 4/20... Step: 480... Loss: 1.8463... Val Loss: 1.8285\n",
      "Epoch: 4/20... Step: 490... Loss: 1.8607... Val Loss: 1.8125\n",
      "Epoch: 4/20... Step: 500... Loss: 1.8505... Val Loss: 1.8058\n",
      "Epoch: 4/20... Step: 510... Loss: 1.8253... Val Loss: 1.7928\n",
      "Epoch: 4/20... Step: 520... Loss: 1.8448... Val Loss: 1.7855\n",
      "Epoch: 4/20... Step: 530... Loss: 1.7955... Val Loss: 1.7788\n",
      "Epoch: 4/20... Step: 540... Loss: 1.7620... Val Loss: 1.7661\n",
      "Epoch: 4/20... Step: 550... Loss: 1.8066... Val Loss: 1.7576\n",
      "Epoch: 5/20... Step: 560... Loss: 1.7755... Val Loss: 1.7441\n",
      "Epoch: 5/20... Step: 570... Loss: 1.7616... Val Loss: 1.7353\n",
      "Epoch: 5/20... Step: 580... Loss: 1.7530... Val Loss: 1.7290\n",
      "Epoch: 5/20... Step: 590... Loss: 1.7439... Val Loss: 1.7210\n",
      "Epoch: 5/20... Step: 600... Loss: 1.7292... Val Loss: 1.7105\n",
      "Epoch: 5/20... Step: 610... Loss: 1.7174... Val Loss: 1.7066\n",
      "Epoch: 5/20... Step: 620... Loss: 1.7131... Val Loss: 1.6987\n",
      "Epoch: 5/20... Step: 630... Loss: 1.7239... Val Loss: 1.6927\n",
      "Epoch: 5/20... Step: 640... Loss: 1.6995... Val Loss: 1.6840\n",
      "Epoch: 5/20... Step: 650... Loss: 1.6867... Val Loss: 1.6767\n",
      "Epoch: 5/20... Step: 660... Loss: 1.6701... Val Loss: 1.6731\n",
      "Epoch: 5/20... Step: 670... Loss: 1.6922... Val Loss: 1.6678\n",
      "Epoch: 5/20... Step: 680... Loss: 1.6852... Val Loss: 1.6577\n",
      "Epoch: 5/20... Step: 690... Loss: 1.6608... Val Loss: 1.6528\n",
      "Epoch: 6/20... Step: 700... Loss: 1.6717... Val Loss: 1.6466\n",
      "Epoch: 6/20... Step: 710... Loss: 1.6533... Val Loss: 1.6382\n",
      "Epoch: 6/20... Step: 720... Loss: 1.6396... Val Loss: 1.6306\n",
      "Epoch: 6/20... Step: 730... Loss: 1.6558... Val Loss: 1.6242\n",
      "Epoch: 6/20... Step: 740... Loss: 1.6195... Val Loss: 1.6219\n",
      "Epoch: 6/20... Step: 750... Loss: 1.6019... Val Loss: 1.6160\n",
      "Epoch: 6/20... Step: 760... Loss: 1.6482... Val Loss: 1.6123\n",
      "Epoch: 6/20... Step: 770... Loss: 1.6251... Val Loss: 1.6105\n",
      "Epoch: 6/20... Step: 780... Loss: 1.6050... Val Loss: 1.6037\n",
      "Epoch: 6/20... Step: 790... Loss: 1.6010... Val Loss: 1.5982\n",
      "Epoch: 6/20... Step: 800... Loss: 1.6157... Val Loss: 1.5914\n",
      "Epoch: 6/20... Step: 810... Loss: 1.5908... Val Loss: 1.5875\n",
      "Epoch: 6/20... Step: 820... Loss: 1.5668... Val Loss: 1.5791\n",
      "Epoch: 6/20... Step: 830... Loss: 1.6106... Val Loss: 1.5734\n",
      "Epoch: 7/20... Step: 840... Loss: 1.5659... Val Loss: 1.5719\n",
      "Epoch: 7/20... Step: 850... Loss: 1.5724... Val Loss: 1.5662\n",
      "Epoch: 7/20... Step: 860... Loss: 1.5639... Val Loss: 1.5594\n",
      "Epoch: 7/20... Step: 870... Loss: 1.5724... Val Loss: 1.5574\n",
      "Epoch: 7/20... Step: 880... Loss: 1.5744... Val Loss: 1.5529\n",
      "Epoch: 7/20... Step: 890... Loss: 1.5727... Val Loss: 1.5511\n",
      "Epoch: 7/20... Step: 900... Loss: 1.5437... Val Loss: 1.5455\n",
      "Epoch: 7/20... Step: 910... Loss: 1.5154... Val Loss: 1.5434\n",
      "Epoch: 7/20... Step: 920... Loss: 1.5409... Val Loss: 1.5385\n",
      "Epoch: 7/20... Step: 930... Loss: 1.5313... Val Loss: 1.5340\n",
      "Epoch: 7/20... Step: 940... Loss: 1.5374... Val Loss: 1.5335\n",
      "Epoch: 7/20... Step: 950... Loss: 1.5499... Val Loss: 1.5301\n",
      "Epoch: 7/20... Step: 960... Loss: 1.5435... Val Loss: 1.5231\n",
      "Epoch: 7/20... Step: 970... Loss: 1.5463... Val Loss: 1.5212\n",
      "Epoch: 8/20... Step: 980... Loss: 1.5166... Val Loss: 1.5191\n",
      "Epoch: 8/20... Step: 990... Loss: 1.5254... Val Loss: 1.5110\n",
      "Epoch: 8/20... Step: 1000... Loss: 1.5085... Val Loss: 1.5081\n",
      "Epoch: 8/20... Step: 1010... Loss: 1.5474... Val Loss: 1.5070\n",
      "Epoch: 8/20... Step: 1020... Loss: 1.5124... Val Loss: 1.5019\n",
      "Epoch: 8/20... Step: 1030... Loss: 1.4930... Val Loss: 1.4997\n",
      "Epoch: 8/20... Step: 1040... Loss: 1.5059... Val Loss: 1.5012\n",
      "Epoch: 8/20... Step: 1050... Loss: 1.4914... Val Loss: 1.4925\n",
      "Epoch: 8/20... Step: 1060... Loss: 1.4825... Val Loss: 1.4925\n",
      "Epoch: 8/20... Step: 1070... Loss: 1.4858... Val Loss: 1.4859\n",
      "Epoch: 8/20... Step: 1080... Loss: 1.4804... Val Loss: 1.4855\n",
      "Epoch: 8/20... Step: 1090... Loss: 1.4768... Val Loss: 1.4810\n",
      "Epoch: 8/20... Step: 1100... Loss: 1.4670... Val Loss: 1.4764\n",
      "Epoch: 8/20... Step: 1110... Loss: 1.4791... Val Loss: 1.4757\n",
      "Epoch: 9/20... Step: 1120... Loss: 1.4975... Val Loss: 1.4752\n",
      "Epoch: 9/20... Step: 1130... Loss: 1.4846... Val Loss: 1.4680\n",
      "Epoch: 9/20... Step: 1140... Loss: 1.4834... Val Loss: 1.4657\n",
      "Epoch: 9/20... Step: 1150... Loss: 1.4935... Val Loss: 1.4633\n",
      "Epoch: 9/20... Step: 1160... Loss: 1.4481... Val Loss: 1.4615\n",
      "Epoch: 9/20... Step: 1170... Loss: 1.4619... Val Loss: 1.4588\n",
      "Epoch: 9/20... Step: 1180... Loss: 1.4442... Val Loss: 1.4583\n",
      "Epoch: 9/20... Step: 1190... Loss: 1.4849... Val Loss: 1.4544\n",
      "Epoch: 9/20... Step: 1200... Loss: 1.4361... Val Loss: 1.4537\n",
      "Epoch: 9/20... Step: 1210... Loss: 1.4364... Val Loss: 1.4474\n",
      "Epoch: 9/20... Step: 1220... Loss: 1.4388... Val Loss: 1.4497\n",
      "Epoch: 9/20... Step: 1230... Loss: 1.4314... Val Loss: 1.4441\n",
      "Epoch: 9/20... Step: 1240... Loss: 1.4280... Val Loss: 1.4419\n",
      "Epoch: 9/20... Step: 1250... Loss: 1.4376... Val Loss: 1.4376\n",
      "Epoch: 10/20... Step: 1260... Loss: 1.4417... Val Loss: 1.4404\n",
      "Epoch: 10/20... Step: 1270... Loss: 1.4388... Val Loss: 1.4348\n",
      "Epoch: 10/20... Step: 1280... Loss: 1.4532... Val Loss: 1.4318\n",
      "Epoch: 10/20... Step: 1290... Loss: 1.4446... Val Loss: 1.4334\n",
      "Epoch: 10/20... Step: 1300... Loss: 1.4264... Val Loss: 1.4277\n",
      "Epoch: 10/20... Step: 1310... Loss: 1.4382... Val Loss: 1.4249\n",
      "Epoch: 10/20... Step: 1320... Loss: 1.4034... Val Loss: 1.4274\n",
      "Epoch: 10/20... Step: 1330... Loss: 1.4045... Val Loss: 1.4226\n",
      "Epoch: 10/20... Step: 1340... Loss: 1.3923... Val Loss: 1.4211\n",
      "Epoch: 10/20... Step: 1350... Loss: 1.3919... Val Loss: 1.4138\n",
      "Epoch: 10/20... Step: 1360... Loss: 1.3948... Val Loss: 1.4173\n",
      "Epoch: 10/20... Step: 1370... Loss: 1.3886... Val Loss: 1.4147\n",
      "Epoch: 10/20... Step: 1380... Loss: 1.4290... Val Loss: 1.4112\n",
      "Epoch: 10/20... Step: 1390... Loss: 1.4272... Val Loss: 1.4078\n",
      "Epoch: 11/20... Step: 1400... Loss: 1.4294... Val Loss: 1.4077\n",
      "Epoch: 11/20... Step: 1410... Loss: 1.4359... Val Loss: 1.4019\n",
      "Epoch: 11/20... Step: 1420... Loss: 1.4267... Val Loss: 1.3963\n",
      "Epoch: 11/20... Step: 1430... Loss: 1.3841... Val Loss: 1.3973\n",
      "Epoch: 11/20... Step: 1440... Loss: 1.4171... Val Loss: 1.3961\n",
      "Epoch: 11/20... Step: 1450... Loss: 1.3425... Val Loss: 1.3962\n",
      "Epoch: 11/20... Step: 1460... Loss: 1.3661... Val Loss: 1.3953\n",
      "Epoch: 11/20... Step: 1470... Loss: 1.3713... Val Loss: 1.3907\n",
      "Epoch: 11/20... Step: 1480... Loss: 1.3775... Val Loss: 1.3883\n",
      "Epoch: 11/20... Step: 1490... Loss: 1.3721... Val Loss: 1.3886\n",
      "Epoch: 11/20... Step: 1500... Loss: 1.3665... Val Loss: 1.3944\n",
      "Epoch: 11/20... Step: 1510... Loss: 1.3443... Val Loss: 1.3799\n",
      "Epoch: 11/20... Step: 1520... Loss: 1.3826... Val Loss: 1.3836\n",
      "Epoch: 12/20... Step: 1530... Loss: 1.4529... Val Loss: 1.3817\n",
      "Epoch: 12/20... Step: 1540... Loss: 1.3822... Val Loss: 1.3780\n",
      "Epoch: 12/20... Step: 1550... Loss: 1.3846... Val Loss: 1.3750\n",
      "Epoch: 12/20... Step: 1560... Loss: 1.3970... Val Loss: 1.3716\n",
      "Epoch: 12/20... Step: 1570... Loss: 1.3455... Val Loss: 1.3749\n",
      "Epoch: 12/20... Step: 1580... Loss: 1.3242... Val Loss: 1.3720\n",
      "Epoch: 12/20... Step: 1590... Loss: 1.3271... Val Loss: 1.3669\n",
      "Epoch: 12/20... Step: 1600... Loss: 1.3415... Val Loss: 1.3663\n",
      "Epoch: 12/20... Step: 1610... Loss: 1.3327... Val Loss: 1.3692\n",
      "Epoch: 12/20... Step: 1620... Loss: 1.3316... Val Loss: 1.3653\n",
      "Epoch: 12/20... Step: 1630... Loss: 1.3532... Val Loss: 1.3605\n",
      "Epoch: 12/20... Step: 1640... Loss: 1.3266... Val Loss: 1.3593\n",
      "Epoch: 12/20... Step: 1650... Loss: 1.3000... Val Loss: 1.3576\n",
      "Epoch: 12/20... Step: 1660... Loss: 1.3646... Val Loss: 1.3574\n",
      "Epoch: 13/20... Step: 1670... Loss: 1.3338... Val Loss: 1.3530\n",
      "Epoch: 13/20... Step: 1680... Loss: 1.3512... Val Loss: 1.3559\n",
      "Epoch: 13/20... Step: 1690... Loss: 1.3276... Val Loss: 1.3489\n",
      "Epoch: 13/20... Step: 1700... Loss: 1.3191... Val Loss: 1.3508\n",
      "Epoch: 13/20... Step: 1710... Loss: 1.3155... Val Loss: 1.3531\n",
      "Epoch: 13/20... Step: 1720... Loss: 1.3130... Val Loss: 1.3585\n",
      "Epoch: 13/20... Step: 1730... Loss: 1.3456... Val Loss: 1.3528\n",
      "Epoch: 13/20... Step: 1740... Loss: 1.3135... Val Loss: 1.3491\n",
      "Epoch: 13/20... Step: 1750... Loss: 1.2909... Val Loss: 1.3516\n",
      "Epoch: 13/20... Step: 1760... Loss: 1.3122... Val Loss: 1.3435\n",
      "Epoch: 13/20... Step: 1770... Loss: 1.3351... Val Loss: 1.3499\n",
      "Epoch: 13/20... Step: 1780... Loss: 1.3173... Val Loss: 1.3438\n",
      "Epoch: 13/20... Step: 1790... Loss: 1.3006... Val Loss: 1.3471\n",
      "Epoch: 13/20... Step: 1800... Loss: 1.3234... Val Loss: 1.3395\n",
      "Epoch: 14/20... Step: 1810... Loss: 1.3315... Val Loss: 1.3389\n",
      "Epoch: 14/20... Step: 1820... Loss: 1.3063... Val Loss: 1.3354\n",
      "Epoch: 14/20... Step: 1830... Loss: 1.3286... Val Loss: 1.3358\n",
      "Epoch: 14/20... Step: 1840... Loss: 1.2678... Val Loss: 1.3379\n",
      "Epoch: 14/20... Step: 1850... Loss: 1.2627... Val Loss: 1.3380\n",
      "Epoch: 14/20... Step: 1860... Loss: 1.3164... Val Loss: 1.3369\n",
      "Epoch: 14/20... Step: 1870... Loss: 1.3180... Val Loss: 1.3335\n",
      "Epoch: 14/20... Step: 1880... Loss: 1.3146... Val Loss: 1.3327\n",
      "Epoch: 14/20... Step: 1890... Loss: 1.3216... Val Loss: 1.3335\n",
      "Epoch: 14/20... Step: 1900... Loss: 1.3083... Val Loss: 1.3271\n",
      "Epoch: 14/20... Step: 1910... Loss: 1.3118... Val Loss: 1.3258\n",
      "Epoch: 14/20... Step: 1920... Loss: 1.2939... Val Loss: 1.3315\n",
      "Epoch: 14/20... Step: 1930... Loss: 1.2687... Val Loss: 1.3269\n",
      "Epoch: 14/20... Step: 1940... Loss: 1.3282... Val Loss: 1.3261\n",
      "Epoch: 15/20... Step: 1950... Loss: 1.2913... Val Loss: 1.3288\n",
      "Epoch: 15/20... Step: 1960... Loss: 1.2910... Val Loss: 1.3250\n",
      "Epoch: 15/20... Step: 1970... Loss: 1.2803... Val Loss: 1.3243\n",
      "Epoch: 15/20... Step: 1980... Loss: 1.2862... Val Loss: 1.3233\n",
      "Epoch: 15/20... Step: 1990... Loss: 1.2794... Val Loss: 1.3296\n",
      "Epoch: 15/20... Step: 2000... Loss: 1.2654... Val Loss: 1.3188\n",
      "Epoch: 15/20... Step: 2010... Loss: 1.2841... Val Loss: 1.3194\n",
      "Epoch: 15/20... Step: 2020... Loss: 1.2981... Val Loss: 1.3157\n",
      "Epoch: 15/20... Step: 2030... Loss: 1.2662... Val Loss: 1.3241\n",
      "Epoch: 15/20... Step: 2040... Loss: 1.2879... Val Loss: 1.3176\n",
      "Epoch: 15/20... Step: 2050... Loss: 1.2726... Val Loss: 1.3172\n",
      "Epoch: 15/20... Step: 2060... Loss: 1.2760... Val Loss: 1.3133\n",
      "Epoch: 15/20... Step: 2070... Loss: 1.2992... Val Loss: 1.3117\n",
      "Epoch: 15/20... Step: 2080... Loss: 1.2821... Val Loss: 1.3128\n",
      "Epoch: 16/20... Step: 2090... Loss: 1.2828... Val Loss: 1.3194\n",
      "Epoch: 16/20... Step: 2100... Loss: 1.2676... Val Loss: 1.3121\n",
      "Epoch: 16/20... Step: 2110... Loss: 1.2646... Val Loss: 1.3117\n",
      "Epoch: 16/20... Step: 2120... Loss: 1.2706... Val Loss: 1.3204\n",
      "Epoch: 16/20... Step: 2130... Loss: 1.2393... Val Loss: 1.3133\n",
      "Epoch: 16/20... Step: 2140... Loss: 1.2633... Val Loss: 1.3101\n",
      "Epoch: 16/20... Step: 2150... Loss: 1.2834... Val Loss: 1.3096\n",
      "Epoch: 16/20... Step: 2160... Loss: 1.2696... Val Loss: 1.3087\n",
      "Epoch: 16/20... Step: 2170... Loss: 1.2577... Val Loss: 1.3069\n",
      "Epoch: 16/20... Step: 2180... Loss: 1.2540... Val Loss: 1.3074\n",
      "Epoch: 16/20... Step: 2190... Loss: 1.2806... Val Loss: 1.3026\n",
      "Epoch: 16/20... Step: 2200... Loss: 1.2439... Val Loss: 1.3038\n",
      "Epoch: 16/20... Step: 2210... Loss: 1.2240... Val Loss: 1.3024\n",
      "Epoch: 16/20... Step: 2220... Loss: 1.2714... Val Loss: 1.3059\n",
      "Epoch: 17/20... Step: 2230... Loss: 1.2451... Val Loss: 1.3044\n",
      "Epoch: 17/20... Step: 2240... Loss: 1.2479... Val Loss: 1.2965\n",
      "Epoch: 17/20... Step: 2250... Loss: 1.2378... Val Loss: 1.2979\n",
      "Epoch: 17/20... Step: 2260... Loss: 1.2389... Val Loss: 1.3077\n",
      "Epoch: 17/20... Step: 2270... Loss: 1.2621... Val Loss: 1.3047\n",
      "Epoch: 17/20... Step: 2280... Loss: 1.2638... Val Loss: 1.3022\n",
      "Epoch: 17/20... Step: 2290... Loss: 1.2517... Val Loss: 1.2967\n",
      "Epoch: 17/20... Step: 2300... Loss: 1.2185... Val Loss: 1.2988\n",
      "Epoch: 17/20... Step: 2310... Loss: 1.2426... Val Loss: 1.2987\n",
      "Epoch: 17/20... Step: 2320... Loss: 1.2438... Val Loss: 1.2945\n",
      "Epoch: 17/20... Step: 2330... Loss: 1.2388... Val Loss: 1.2932\n",
      "Epoch: 17/20... Step: 2340... Loss: 1.2486... Val Loss: 1.3018\n",
      "Epoch: 17/20... Step: 2350... Loss: 1.2530... Val Loss: 1.2940\n",
      "Epoch: 17/20... Step: 2360... Loss: 1.2632... Val Loss: 1.2942\n",
      "Epoch: 18/20... Step: 2370... Loss: 1.2398... Val Loss: 1.2959\n",
      "Epoch: 18/20... Step: 2380... Loss: 1.2283... Val Loss: 1.2873\n",
      "Epoch: 18/20... Step: 2390... Loss: 1.2399... Val Loss: 1.2899\n",
      "Epoch: 18/20... Step: 2400... Loss: 1.2600... Val Loss: 1.2919\n",
      "Epoch: 18/20... Step: 2410... Loss: 1.2507... Val Loss: 1.2910\n",
      "Epoch: 18/20... Step: 2420... Loss: 1.2341... Val Loss: 1.2895\n",
      "Epoch: 18/20... Step: 2430... Loss: 1.2418... Val Loss: 1.2888\n",
      "Epoch: 18/20... Step: 2440... Loss: 1.2322... Val Loss: 1.2852\n",
      "Epoch: 18/20... Step: 2450... Loss: 1.2208... Val Loss: 1.2868\n",
      "Epoch: 18/20... Step: 2460... Loss: 1.2395... Val Loss: 1.2894\n",
      "Epoch: 18/20... Step: 2470... Loss: 1.2278... Val Loss: 1.2883\n",
      "Epoch: 18/20... Step: 2480... Loss: 1.2161... Val Loss: 1.2890\n",
      "Epoch: 18/20... Step: 2490... Loss: 1.2193... Val Loss: 1.2848\n",
      "Epoch: 18/20... Step: 2500... Loss: 1.2302... Val Loss: 1.2923\n",
      "Epoch: 19/20... Step: 2510... Loss: 1.2320... Val Loss: 1.2842\n",
      "Epoch: 19/20... Step: 2520... Loss: 1.2454... Val Loss: 1.2802\n",
      "Epoch: 19/20... Step: 2530... Loss: 1.2519... Val Loss: 1.2834\n",
      "Epoch: 19/20... Step: 2540... Loss: 1.2496... Val Loss: 1.2830\n",
      "Epoch: 19/20... Step: 2550... Loss: 1.2100... Val Loss: 1.2840\n",
      "Epoch: 19/20... Step: 2560... Loss: 1.2291... Val Loss: 1.2778\n",
      "Epoch: 19/20... Step: 2570... Loss: 1.2200... Val Loss: 1.2799\n",
      "Epoch: 19/20... Step: 2580... Loss: 1.2532... Val Loss: 1.2786\n",
      "Epoch: 19/20... Step: 2590... Loss: 1.2097... Val Loss: 1.2855\n",
      "Epoch: 19/20... Step: 2600... Loss: 1.2153... Val Loss: 1.2812\n",
      "Epoch: 19/20... Step: 2610... Loss: 1.2291... Val Loss: 1.2827\n",
      "Epoch: 19/20... Step: 2620... Loss: 1.2088... Val Loss: 1.2777\n",
      "Epoch: 19/20... Step: 2630... Loss: 1.2156... Val Loss: 1.2781\n",
      "Epoch: 19/20... Step: 2640... Loss: 1.2214... Val Loss: 1.2826\n",
      "Epoch: 20/20... Step: 2650... Loss: 1.2268... Val Loss: 1.2793\n",
      "Epoch: 20/20... Step: 2660... Loss: 1.2345... Val Loss: 1.2774\n",
      "Epoch: 20/20... Step: 2670... Loss: 1.2356... Val Loss: 1.2761\n",
      "Epoch: 20/20... Step: 2680... Loss: 1.2310... Val Loss: 1.2779\n",
      "Epoch: 20/20... Step: 2690... Loss: 1.2180... Val Loss: 1.2762\n",
      "Epoch: 20/20... Step: 2700... Loss: 1.2300... Val Loss: 1.2731\n",
      "Epoch: 20/20... Step: 2710... Loss: 1.1924... Val Loss: 1.2744\n",
      "Epoch: 20/20... Step: 2720... Loss: 1.1939... Val Loss: 1.2726\n",
      "Epoch: 20/20... Step: 2730... Loss: 1.1953... Val Loss: 1.2737\n",
      "Epoch: 20/20... Step: 2740... Loss: 1.1901... Val Loss: 1.2744\n",
      "Epoch: 20/20... Step: 2750... Loss: 1.1980... Val Loss: 1.2737\n",
      "Epoch: 20/20... Step: 2760... Loss: 1.2000... Val Loss: 1.2771\n",
      "Epoch: 20/20... Step: 2770... Loss: 1.2286... Val Loss: 1.2694\n",
      "Epoch: 20/20... Step: 2780... Loss: 1.2577... Val Loss: 1.2730\n"
     ]
    }
   ],
   "source": [
    "batch_size = 128\n",
    "seq_length = 100\n",
    "n_epochs = 20 # start small if you are just testing initial behavior\n",
    "\n",
    "# train the model\n",
    "train(net, encoded, epochs=n_epochs, batch_size=batch_size, seq_length=seq_length, lr=0.001, print_every=10)"
   ]
  },
  {
   "cell_type": "markdown",
   "metadata": {},
   "source": [
    "## Getting the best model\n",
    "\n",
    "To set your hyperparameters to get the best performance, you'll want to watch the training and validation losses. If your training loss is much lower than the validation loss, you're overfitting. Increase regularization (more dropout) or use a smaller network. If the training and validation losses are close, you're underfitting so you can increase the size of the network."
   ]
  },
  {
   "cell_type": "markdown",
   "metadata": {},
   "source": [
    "## Hyperparameters\n",
    "\n",
    "Here are the hyperparameters for the network.\n",
    "\n",
    "In defining the model:\n",
    "* `n_hidden` - The number of units in the hidden layers.\n",
    "* `n_layers` - Number of hidden LSTM layers to use.\n",
    "\n",
    "We assume that dropout probability and learning rate will be kept at the default, in this example.\n",
    "\n",
    "And in training:\n",
    "* `batch_size` - Number of sequences running through the network in one pass.\n",
    "* `seq_length` - Number of characters in the sequence the network is trained on. Larger is better typically, the network will learn more long range dependencies. But it takes longer to train. 100 is typically a good number here.\n",
    "* `lr` - Learning rate for training\n",
    "\n",
    "Here's some good advice from Andrej Karpathy on training the network. I'm going to copy it in here for your benefit, but also link to [where it originally came from](https://github.com/karpathy/char-rnn#tips-and-tricks).\n",
    "\n",
    "> ## Tips and Tricks\n",
    "\n",
    ">### Monitoring Validation Loss vs. Training Loss\n",
    ">If you're somewhat new to Machine Learning or Neural Networks it can take a bit of expertise to get good models. The most important quantity to keep track of is the difference between your training loss (printed during training) and the validation loss (printed once in a while when the RNN is run on the validation data (by default every 1000 iterations)). In particular:\n",
    "\n",
    "> - If your training loss is much lower than validation loss then this means the network might be **overfitting**. Solutions to this are to decrease your network size, or to increase dropout. For example you could try dropout of 0.5 and so on.\n",
    "> - If your training/validation loss are about equal then your model is **underfitting**. Increase the size of your model (either number of layers or the raw number of neurons per layer)\n",
    "\n",
    "> ### Approximate number of parameters\n",
    "\n",
    "> The two most important parameters that control the model are `n_hidden` and `n_layers`. I would advise that you always use `n_layers` of either 2/3. The `n_hidden` can be adjusted based on how much data you have. The two important quantities to keep track of here are:\n",
    "\n",
    "> - The number of parameters in your model. This is printed when you start training.\n",
    "> - The size of your dataset. 1MB file is approximately 1 million characters.\n",
    "\n",
    ">These two should be about the same order of magnitude. It's a little tricky to tell. Here are some examples:\n",
    "\n",
    "> - I have a 100MB dataset and I'm using the default parameter settings (which currently print 150K parameters). My data size is significantly larger (100 mil >> 0.15 mil), so I expect to heavily underfit. I am thinking I can comfortably afford to make `n_hidden` larger.\n",
    "> - I have a 10MB dataset and running a 10 million parameter model. I'm slightly nervous and I'm carefully monitoring my validation loss. If it's larger than my training loss then I may want to try to increase dropout a bit and see if that helps the validation loss.\n",
    "\n",
    "> ### Best models strategy\n",
    "\n",
    ">The winning strategy to obtaining very good models (if you have the compute time) is to always err on making the network larger (as large as you're willing to wait for it to compute) and then try different dropout values (between 0,1). Whatever model has the best validation performance (the loss, written in the checkpoint filename, low is good) is the one you should use in the end.\n",
    "\n",
    ">It is very common in deep learning to run many different models with many different hyperparameter settings, and in the end take whatever checkpoint gave the best validation performance.\n",
    "\n",
    ">By the way, the size of your training and validation splits are also parameters. Make sure you have a decent amount of data in your validation set or otherwise the validation performance will be noisy and not very informative."
   ]
  },
  {
   "cell_type": "markdown",
   "metadata": {},
   "source": [
    "## Checkpoint\n",
    "\n",
    "After training, we'll save the model so we can load it again later if we need too. Here I'm saving the parameters needed to create the same architecture, the hidden layer hyperparameters and the text characters."
   ]
  },
  {
   "cell_type": "code",
   "execution_count": 30,
   "metadata": {
    "tags": []
   },
   "outputs": [],
   "source": [
    "# change the name, for saving multiple files\n",
    "model_name = 'rnn_20_epoch.net'\n",
    "\n",
    "checkpoint = {'n_hidden': net.n_hidden,\n",
    "              'n_layers': net.n_layers,\n",
    "              'state_dict': net.state_dict(),\n",
    "              'tokens': net.chars}\n",
    "\n",
    "with open(model_name, 'wb') as f:\n",
    "    torch.save(checkpoint, f)"
   ]
  },
  {
   "cell_type": "markdown",
   "metadata": {},
   "source": [
    "---\n",
    "## Making Predictions\n",
    "\n",
    "Now that the model is trained, we'll want to sample from it and make predictions about next characters! To sample, we pass in a character and have the network predict the next character. Then we take that character, pass it back in, and get another predicted character. Just keep doing this and you'll generate a bunch of text!\n",
    "\n",
    "### A note on the `predict`  function\n",
    "\n",
    "The output of our RNN is from a fully-connected layer and it outputs a **distribution of next-character scores**.\n",
    "\n",
    "> To actually get the next character, we apply a softmax function, which gives us a *probability* distribution that we can then sample to predict the next character.\n",
    "\n",
    "### Top K sampling\n",
    "\n",
    "Our predictions come from a categorical probability distribution over all the possible characters. We can make the sample text and make it more reasonable to handle (with less variables) by only considering some $K$ most probable characters. This will prevent the network from giving us completely absurd characters while allowing it to introduce some noise and randomness into the sampled text. Read more about [topk, here](https://pytorch.org/docs/stable/torch.html#torch.topk).\n"
   ]
  },
  {
   "cell_type": "code",
   "execution_count": 31,
   "metadata": {
    "tags": []
   },
   "outputs": [],
   "source": [
    "def predict(net, char, h=None, top_k=None):\n",
    "        ''' Given a character, predict the next character.\n",
    "            Returns the predicted character and the hidden state.\n",
    "        '''\n",
    "        \n",
    "        # tensor inputs\n",
    "        x = np.array([[net.char2int[char]]])\n",
    "        x = one_hot_encode(x, len(net.chars))\n",
    "        inputs = torch.from_numpy(x)\n",
    "        \n",
    "        if(train_on_gpu):\n",
    "            inputs = inputs.cuda()\n",
    "        \n",
    "        # detach hidden state from history\n",
    "        h = tuple([each.data for each in h])\n",
    "        # get the output of the model\n",
    "        out, h = net(inputs, h)\n",
    "\n",
    "        # get the character probabilities\n",
    "        p = F.softmax(out, dim=1).data\n",
    "        if(train_on_gpu):\n",
    "            p = p.cpu() # move to cpu\n",
    "        \n",
    "        # get top characters\n",
    "        if top_k is None:\n",
    "            top_ch = np.arange(len(net.chars))\n",
    "        else:\n",
    "            p, top_ch = p.topk(top_k)\n",
    "            top_ch = top_ch.numpy().squeeze()\n",
    "        \n",
    "        # select the likely next character with some element of randomness\n",
    "        p = p.numpy().squeeze()\n",
    "        char = np.random.choice(top_ch, p=p/p.sum())\n",
    "        \n",
    "        # return the encoded value of the predicted char and the hidden state\n",
    "        return net.int2char[char], h"
   ]
  },
  {
   "cell_type": "markdown",
   "metadata": {},
   "source": [
    "### Priming and generating text \n",
    "\n",
    "Typically you'll want to prime the network so you can build up a hidden state. Otherwise the network will start out generating characters at random. In general the first bunch of characters will be a little rough since it hasn't built up a long history of characters to predict from."
   ]
  },
  {
   "cell_type": "code",
   "execution_count": 32,
   "metadata": {
    "tags": []
   },
   "outputs": [],
   "source": [
    "def sample(net, size, prime='The', top_k=None):\n",
    "        \n",
    "    if(train_on_gpu):\n",
    "        net.cuda()\n",
    "    else:\n",
    "        net.cpu()\n",
    "    \n",
    "    net.eval() # eval mode\n",
    "    \n",
    "    # First off, run through the prime characters\n",
    "    chars = [ch for ch in prime]\n",
    "    h = net.init_hidden(1)\n",
    "    for ch in prime:\n",
    "        char, h = predict(net, ch, h, top_k=top_k)\n",
    "\n",
    "    chars.append(char)\n",
    "    \n",
    "    # Now pass in the previous character and get a new one\n",
    "    for ii in range(size):\n",
    "        char, h = predict(net, chars[-1], h, top_k=top_k)\n",
    "        chars.append(char)\n",
    "\n",
    "    return ''.join(chars)"
   ]
  },
  {
   "cell_type": "code",
   "execution_count": 34,
   "metadata": {
    "tags": []
   },
   "outputs": [
    {
     "name": "stdout",
     "output_type": "stream",
     "text": [
      "Suvoo is a pretty\n",
      "starred or things, that is were a pitifur, while the personal smook\n",
      "started on the courter. She was all the soul should take off her at\n",
      "the conversation, and strayge to be tried, and they was such tall\n",
      "to a missed to say what he was sure that he went out, she was\n",
      "a subject sent to herself. \"You know it's a life and higherty and\n",
      "thing and drunk, the mirshes who seem as is that there so wile that you see\n",
      "that it seems of the presses of the prince thought was not thrown away.\n",
      "And the chief dread in himself with a sense of streak and still sides of\n",
      "made a found that he has a stopped, and how stirred had being merrold.\n",
      "And the princess was to bo seen the from their still. But he was\n",
      "told her for her, talking of it, he had something, so that he saw\n",
      "that he had not charre home that he was surmining himself. He was\n",
      "so implonged. But she went in to the dresses that he was told the\n",
      "cart and signiny that he could not come to her; and was not taking on her\n",
      "hand. \"I am not angrily and distant\n"
     ]
    }
   ],
   "source": [
    "print(sample(net, 1000, prime='Suvoo is a ', top_k=5))"
   ]
  },
  {
   "cell_type": "markdown",
   "metadata": {},
   "source": [
    "## Loading a checkpoint"
   ]
  },
  {
   "cell_type": "code",
   "execution_count": 35,
   "metadata": {
    "tags": []
   },
   "outputs": [
    {
     "data": {
      "text/plain": [
       "<All keys matched successfully>"
      ]
     },
     "execution_count": 35,
     "metadata": {},
     "output_type": "execute_result"
    }
   ],
   "source": [
    "# Here we have loaded in a model that trained over 20 epochs `rnn_20_epoch.net`\n",
    "with open('rnn_20_epoch.net', 'rb') as f:\n",
    "    checkpoint = torch.load(f)\n",
    "    \n",
    "loaded = CharRNN(checkpoint['tokens'], n_hidden=checkpoint['n_hidden'], n_layers=checkpoint['n_layers'])\n",
    "loaded.load_state_dict(checkpoint['state_dict'])"
   ]
  },
  {
   "cell_type": "code",
   "execution_count": 37,
   "metadata": {
    "tags": []
   },
   "outputs": [
    {
     "name": "stdout",
     "output_type": "stream",
     "text": [
      "And suvo aterable\n",
      "satcentive.\n",
      "\n",
      "\"That's all over. But what was a crickery finder.\"\n",
      "\n",
      "Stepan Arkadyevitch saw the single charatter who had been in an incapable\n",
      "time and since his brother and his hands, his brother, who\n",
      "had said. Along the place, whore his feet had stood and atceariating her\n",
      "hand.\n",
      "\n",
      "\"Ah, we should go,\" said Landau, and sat drunk into the sound of\n",
      "such a struck of somewhing he said, and that at the corridor and\n",
      "her fingers were satring to his word. All the day had been taken\n",
      "to the ball that his boudors he had been inconceidated to his\n",
      "wife. The conversation this fealing had and saying, both that she had seen\n",
      "her shoulders to her and how she said to him as her hisse of some\n",
      "pressure of the cort and side, and say now when the count shoulders, hearing\n",
      "his hands only that she saw that his face with her, he had not stayed\n",
      "to the possibily of the sister that she saw the position of her house as\n",
      "he saw his former single cold friend. He had brought her\n",
      "face about the subject to the carriage.\n",
      "\n",
      "\"Yes at the pass.\"\n",
      "\n",
      "\"I should say.\"\n",
      "\n",
      "\"I am now so thankal at the conversation in his hands in his brought that\n",
      "has not the feeling, and so the pride of the pride trues there's nothing, but\n",
      "string to take the carefully clear and something so that his fingers\n",
      "interested her and went up to her.\n",
      "\n",
      "\"I am to be sometime to say anything but to that, but he's a man who can\n",
      "be so close there alone, but that step soon his sister....\" he\n",
      "said, and as she was.\n",
      "\n",
      "All of, and the could should be they could not take a pinces where he\n",
      "seemed to herself, who came out, starting out of the same start to\n",
      "him, and angrily at once was so is to say in the stairs. The feeling he\n",
      "had been anything. But there was a mentel woman, he were stepsing, and\n",
      "her sister, work of all on the prince, and the most of his sensition\n",
      "was simply so that it was something: \"Why do you there all to\n",
      "be did not?\"\n",
      "\n",
      "\"I don't, and so I don't know it. And had beg many ordicate if to set it. I\n",
      "can't talk, out of the sack in a strange simple\n"
     ]
    }
   ],
   "source": [
    "# Sample using a loaded model\n",
    "print(sample(loaded, 2000, top_k=5, prime=\"And suvo ate\"))"
   ]
  },
  {
   "cell_type": "code",
   "execution_count": null,
   "metadata": {
    "collapsed": true,
    "jupyter": {
     "outputs_hidden": true
    }
   },
   "outputs": [],
   "source": []
  }
 ],
 "metadata": {
  "kernelspec": {
   "display_name": "Python 3",
   "language": "python",
   "name": "python3"
  },
  "language_info": {
   "codemirror_mode": {
    "name": "ipython",
    "version": 3
   },
   "file_extension": ".py",
   "mimetype": "text/x-python",
   "name": "python",
   "nbconvert_exporter": "python",
   "pygments_lexer": "ipython3",
   "version": "3.9.1"
  }
 },
 "nbformat": 4,
 "nbformat_minor": 4
}
